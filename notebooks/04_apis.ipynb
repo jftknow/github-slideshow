{
 "cells": [
  {
   "cell_type": "markdown",
   "metadata": {},
   "source": [
    "# Introducción a las APIs\n",
    "\n",
    "Las [APIs](https://en.wikipedia.org/wiki/Application_programming_interface) (Application Programming Interface) se utilizan de manera habitual para acceder a datos, servicios o facilitar la comunicación entre programas.\n",
    "\n",
    "Son muy útiles en los siguientes casos:\n",
    "\n",
    "* Los datos cambian rápidamente. Por ejemplo, predicciones metereológicas a corto plazo, o el estado actual de la bolsa. En estos casos, no tiene sentido tener un dataset estático que regenerar continuamente.\n",
    "* Necesitamos una parte pequeña de un dataset mucho más grande. Por ejemplo, vamos a analizar los tweets de una determinada cuenta. Sería innecesariamente costo tener que descargarse la base de datos de Twitter completa para consultar un subconjunto muy pequeño.\n",
    "* Para consumir un servicio especializado. Por ejemplo, la geocodificación inversa (consiste en un servicio al que le pasas una latitud y longitud y te devuelve la dirección, ciudad, país, ... en la que se encuentra. Para hacerlo por nosotros mismos, necesitaríamos una base geolocalizada global.\n"
   ]
  },
  {
   "cell_type": "markdown",
   "metadata": {},
   "source": [
    "![](images/api_vs_website.gif)"
   ]
  },
  {
   "cell_type": "markdown",
   "metadata": {},
   "source": [
    "En realidad, su uso es muy parecido a la consulta de un sitio web desde un explorador. Tanto la API como el sitio web residen en un servidor web remoto (normalmente, accesible desde internet) y contestan a las peticiones que hacen los clientes. La gran diferencia reside, principalmente, en el formato de la respuesta:\n",
    "\n",
    "* Al consultar un sitio web, el resultado se devuelve para que sea interpretable por humanos. Suele estar formado por HTML que el explorador renderiza para nosotros.\n",
    "* Al consultar una API, el resultado se devuelve en una forma estructurada para que sea interpretable por otro programa. El formato más habitual es el [JSON](https://en.wikipedia.org/wiki/JSON), aunque existen otros.\n",
    "\n",
    "Un ejemplo de JSON:"
   ]
  },
  {
   "cell_type": "markdown",
   "metadata": {},
   "source": [
    "![](images/json.png)"
   ]
  },
  {
   "cell_type": "markdown",
   "metadata": {},
   "source": [
    "## Peticiones a APIs\n",
    "\n",
    "Vamos a hacer una petición a una API. Para ello, necesitamos saber:\n",
    "\n",
    "* El endpoint (url)\n",
    "* Si necesita parámetros, cuáles son, y dónde se colocan (en el query string o en el cuerpo de la petición)\n",
    "\n",
    "Un ejemplo de petición a una API que no necesita parámetros"
   ]
  },
  {
   "cell_type": "code",
   "execution_count": 1,
   "metadata": {},
   "outputs": [],
   "source": [
    "import requests"
   ]
  },
  {
   "cell_type": "code",
   "execution_count": 2,
   "metadata": {},
   "outputs": [],
   "source": [
    "response = requests.get('https://api.exchangeratesapi.io/latest')"
   ]
  },
  {
   "cell_type": "code",
   "execution_count": 3,
   "metadata": {},
   "outputs": [
    {
     "data": {
      "text/plain": [
       "200"
      ]
     },
     "execution_count": 3,
     "metadata": {},
     "output_type": "execute_result"
    }
   ],
   "source": [
    "# Código de estado: 200 indica OK\n",
    "\n",
    "response.status_code"
   ]
  },
  {
   "cell_type": "code",
   "execution_count": 4,
   "metadata": {},
   "outputs": [
    {
     "data": {
      "text/plain": [
       "{'Date': 'Mon, 20 Apr 2020 17:52:38 GMT', 'Content-Type': 'application/json', 'Transfer-Encoding': 'chunked', 'Connection': 'keep-alive', 'Set-Cookie': '__cfduid=d8f1bbbee411bc5f0dd9641aec6e9bf1a1587405158; expires=Wed, 20-May-20 17:52:38 GMT; path=/; domain=.exchangeratesapi.io; HttpOnly; SameSite=Lax', 'Vary': 'Accept-Encoding', 'Access-Control-Allow-Origin': '*', 'Access-Control-Allow-Credentials': 'true', 'Access-Control-Allow-Methods': 'GET', 'Content-Encoding': 'gzip', 'Cache-Control': 'max-age=1800', 'CF-Cache-Status': 'HIT', 'Age': '30', 'Expect-CT': 'max-age=604800, report-uri=\"https://report-uri.cloudflare.com/cdn-cgi/beacon/expect-ct\"', 'Server': 'cloudflare', 'CF-RAY': '5870b8639979545a-MAD', 'cf-request-id': '023a51923b0000545a4a8be200000001'}"
      ]
     },
     "execution_count": 4,
     "metadata": {},
     "output_type": "execute_result"
    }
   ],
   "source": [
    "# Cabeceras: dan información sobre el servidor, el formato de la respuesta, ...\n",
    "\n",
    "response.headers"
   ]
  },
  {
   "cell_type": "code",
   "execution_count": 5,
   "metadata": {},
   "outputs": [
    {
     "data": {
      "text/plain": [
       "{'rates': {'CAD': 1.5325,\n",
       "  'HKD': 8.4168,\n",
       "  'ISK': 156.9,\n",
       "  'PHP': 55.126,\n",
       "  'DKK': 7.4584,\n",
       "  'HUF': 354.57,\n",
       "  'CZK': 27.328,\n",
       "  'AUD': 1.7085,\n",
       "  'RON': 4.8377,\n",
       "  'SEK': 10.8623,\n",
       "  'IDR': 16871.01,\n",
       "  'INR': 83.1435,\n",
       "  'BRL': 5.7463,\n",
       "  'RUB': 80.9728,\n",
       "  'HRK': 7.5503,\n",
       "  'JPY': 117.11,\n",
       "  'THB': 35.284,\n",
       "  'CHF': 1.0518,\n",
       "  'SGD': 1.5455,\n",
       "  'PLN': 4.5272,\n",
       "  'BGN': 1.9558,\n",
       "  'TRY': 7.522,\n",
       "  'CNY': 7.6819,\n",
       "  'NOK': 11.2698,\n",
       "  'NZD': 1.7962,\n",
       "  'ZAR': 20.3486,\n",
       "  'USD': 1.086,\n",
       "  'MXN': 26.1086,\n",
       "  'ILS': 3.8783,\n",
       "  'GBP': 0.87343,\n",
       "  'KRW': 1323.52,\n",
       "  'MYR': 4.7507},\n",
       " 'base': 'EUR',\n",
       " 'date': '2020-04-20'}"
      ]
     },
     "execution_count": 5,
     "metadata": {},
     "output_type": "execute_result"
    }
   ],
   "source": [
    "# Los datos de respuesta, en JSON\n",
    "\n",
    "response_data = response.json()\n",
    "response_data"
   ]
  },
  {
   "cell_type": "markdown",
   "metadata": {},
   "source": [
    "La librería parsea el JSON de respuesta automáticamente a una lista de diccionarios (con las anidaciones correspondientes. P.e. podemos extraer campos concretos de esta forma:"
   ]
  },
  {
   "cell_type": "code",
   "execution_count": 6,
   "metadata": {},
   "outputs": [
    {
     "data": {
      "text/plain": [
       "'EUR'"
      ]
     },
     "execution_count": 6,
     "metadata": {},
     "output_type": "execute_result"
    }
   ],
   "source": [
    "response_data['base']"
   ]
  },
  {
   "cell_type": "code",
   "execution_count": 7,
   "metadata": {},
   "outputs": [
    {
     "data": {
      "text/plain": [
       "1.7085"
      ]
     },
     "execution_count": 7,
     "metadata": {},
     "output_type": "execute_result"
    }
   ],
   "source": [
    "response_data['rates']['AUD']"
   ]
  },
  {
   "cell_type": "code",
   "execution_count": 8,
   "metadata": {},
   "outputs": [
    {
     "data": {
      "text/plain": [
       "1.086"
      ]
     },
     "execution_count": 8,
     "metadata": {},
     "output_type": "execute_result"
    }
   ],
   "source": [
    "response_data['rates']['USD']"
   ]
  },
  {
   "cell_type": "markdown",
   "metadata": {},
   "source": [
    "## Códigos de respuesta\n",
    "\n",
    "El _status code_ nos indica si ha ido bien o no la petición. Además, en caso de error, nos da información sobre la causa de este. Los más utilizados son:\n",
    "\n",
    "* 200: la petición ha ido bien\n",
    "* 301: el servidor está redireccionando la petición a otro\n",
    "* 401: error de autenticación\n",
    "* 400: la petición es incorrecta (p.e. porque falta algún parámetro o están mal formados)\n",
    "* 403: prohibido, no tienes permisos suficientes\n",
    "* 404: el recurso consultado no existe\n",
    "* 500: el servidor ha dado un error inesperado\n",
    "\n",
    "Puedes ver la lista completa [aquí](https://en.wikipedia.org/wiki/List_of_HTTP_status_codes)"
   ]
  },
  {
   "cell_type": "markdown",
   "metadata": {},
   "source": [
    "## Verbos\n",
    "\n",
    "Las peticiones a las APIs usan verbos. En el ejemplo de antes, hemos utilizado `GET`. Además, este verbo es el que se usa por defecto a través del explorador.\n",
    "\n",
    "Los más comunes y el uso que se les suele dar son:\n",
    "\n",
    "* GET: para consulta\n",
    "* POST: para insertar un nuevo dato o disparar una acción\n",
    "* PUT: para actualizar un registro\n",
    "* DELETE: para eliminar un registro"
   ]
  },
  {
   "cell_type": "markdown",
   "metadata": {},
   "source": [
    "## Parámetros\n",
    "\n",
    "Los parámetros que incluimos en la petición pueden ir de formas diversas:\n",
    "\n",
    "* Como parte de la URL. P.e. `https://api.exchangeratesapi.io/2010-04-01`\n",
    "* Como parte del query string. La URL y su query string se separan con el símbolo `?`, y tienen la forma `clave=valor`. P.e. `https://api.exchangeratesapi.io/latest?base=USD`. Este es el lugar habitual de los parámetros en las peticiones `GET`.\n",
    "* En el cuerpo de la petición. Es el lugar habitual de los parámetros en las peticiones `POST` y `PUT`.\n",
    "\n",
    "Un ejemplo de petición `POST` con parámetros en el cuerpo de la petición:"
   ]
  },
  {
   "cell_type": "code",
   "execution_count": 9,
   "metadata": {},
   "outputs": [
    {
     "data": {
      "text/plain": [
       "{'args': {},\n",
       " 'data': '',\n",
       " 'files': {},\n",
       " 'form': {'clave': 'valor'},\n",
       " 'headers': {'Accept': '*/*',\n",
       "  'Accept-Encoding': 'gzip, deflate',\n",
       "  'Content-Length': '11',\n",
       "  'Content-Type': 'application/x-www-form-urlencoded',\n",
       "  'Host': 'httpbin.org',\n",
       "  'User-Agent': 'python-requests/2.23.0',\n",
       "  'X-Amzn-Trace-Id': 'Root=1-5e9de1e9-b34b520493730b588f71350c'},\n",
       " 'json': None,\n",
       " 'origin': '87.222.181.67',\n",
       " 'url': 'https://httpbin.org/post'}"
      ]
     },
     "execution_count": 9,
     "metadata": {},
     "output_type": "execute_result"
    }
   ],
   "source": [
    "response = requests.post('https://httpbin.org/post', data={'clave': 'valor'})\n",
    "response.json()"
   ]
  },
  {
   "cell_type": "markdown",
   "metadata": {},
   "source": [
    "Un ejemplo similar, pero enviando los parámetros en el cuerpo de la petición __en formato JSON__:"
   ]
  },
  {
   "cell_type": "code",
   "execution_count": 10,
   "metadata": {},
   "outputs": [
    {
     "data": {
      "text/plain": [
       "{'args': {},\n",
       " 'data': '{\"clave\": \"valor\"}',\n",
       " 'files': {},\n",
       " 'form': {},\n",
       " 'headers': {'Accept': '*/*',\n",
       "  'Accept-Encoding': 'gzip, deflate',\n",
       "  'Content-Length': '18',\n",
       "  'Content-Type': 'application/json',\n",
       "  'Host': 'httpbin.org',\n",
       "  'User-Agent': 'python-requests/2.23.0',\n",
       "  'X-Amzn-Trace-Id': 'Root=1-5e9de1f2-7d354380959dcb60ff3c1860'},\n",
       " 'json': {'clave': 'valor'},\n",
       " 'origin': '87.222.181.67',\n",
       " 'url': 'https://httpbin.org/post'}"
      ]
     },
     "execution_count": 10,
     "metadata": {},
     "output_type": "execute_result"
    }
   ],
   "source": [
    "response = requests.post('https://httpbin.org/post', json={'clave': 'valor'})\n",
    "response.json()"
   ]
  },
  {
   "cell_type": "markdown",
   "metadata": {},
   "source": [
    "## Referencia\n",
    "\n",
    "* Documentación [requests](http://www.python-requests.org/en/latest/)\n",
    "* Documentación [API citybik](https://api.citybik.es/v2/)\n",
    "* Documentación [folium](http://python-visualization.github.io/folium/quickstart.html)"
   ]
  },
  {
   "cell_type": "code",
   "execution_count": null,
   "metadata": {},
   "outputs": [],
   "source": []
  }
 ],
 "metadata": {
  "kernelspec": {
   "display_name": "Python 3",
   "language": "python",
   "name": "python3"
  },
  "language_info": {
   "codemirror_mode": {
    "name": "ipython",
    "version": 3
   },
   "file_extension": ".py",
   "mimetype": "text/x-python",
   "name": "python",
   "nbconvert_exporter": "python",
   "pygments_lexer": "ipython3",
   "version": "3.7.3"
  }
 },
 "nbformat": 4,
 "nbformat_minor": 2
}
