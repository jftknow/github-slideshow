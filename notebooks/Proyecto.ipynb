{
 "cells": [
  {
   "cell_type": "code",
   "execution_count": 15,
   "metadata": {
    "scrolled": true
   },
   "outputs": [
    {
     "name": "stdout",
     "output_type": "stream",
     "text": [
      "Collecting sphinx\n",
      "  Downloading Sphinx-3.0.3-py3-none-any.whl (2.8 MB)\n",
      "Requirement already satisfied, skipping upgrade: sphinxcontrib-devhelp in c:\\users\\masja\\anaconda3\\lib\\site-packages (from sphinx) (1.0.2)\n",
      "Requirement already satisfied, skipping upgrade: alabaster<0.8,>=0.7 in c:\\users\\masja\\anaconda3\\lib\\site-packages (from sphinx) (0.7.12)\n",
      "Requirement already satisfied, skipping upgrade: sphinxcontrib-htmlhelp in c:\\users\\masja\\anaconda3\\lib\\site-packages (from sphinx) (1.0.3)\n",
      "Requirement already satisfied, skipping upgrade: Jinja2>=2.3 in c:\\users\\masja\\anaconda3\\lib\\site-packages (from sphinx) (2.11.1)\n",
      "Requirement already satisfied, skipping upgrade: setuptools in c:\\users\\masja\\anaconda3\\lib\\site-packages (from sphinx) (46.1.3.post20200330)\n",
      "Requirement already satisfied, skipping upgrade: imagesize in c:\\users\\masja\\anaconda3\\lib\\site-packages (from sphinx) (1.2.0)\n",
      "Requirement already satisfied, skipping upgrade: sphinxcontrib-serializinghtml in c:\\users\\masja\\anaconda3\\lib\\site-packages (from sphinx) (1.1.4)\n",
      "Requirement already satisfied, skipping upgrade: packaging in c:\\users\\masja\\anaconda3\\lib\\site-packages (from sphinx) (20.3)\n",
      "Requirement already satisfied, skipping upgrade: docutils>=0.12 in c:\\users\\masja\\anaconda3\\lib\\site-packages (from sphinx) (0.16)\n",
      "Requirement already satisfied, skipping upgrade: snowballstemmer>=1.1 in c:\\users\\masja\\anaconda3\\lib\\site-packages (from sphinx) (2.0.0)\n",
      "Requirement already satisfied, skipping upgrade: requests>=2.5.0 in c:\\users\\masja\\anaconda3\\lib\\site-packages (from sphinx) (2.23.0)\n",
      "Requirement already satisfied, skipping upgrade: sphinxcontrib-applehelp in c:\\users\\masja\\anaconda3\\lib\\site-packages (from sphinx) (1.0.2)\n",
      "Requirement already satisfied, skipping upgrade: sphinxcontrib-jsmath in c:\\users\\masja\\anaconda3\\lib\\site-packages (from sphinx) (1.0.1)\n",
      "Requirement already satisfied, skipping upgrade: sphinxcontrib-qthelp in c:\\users\\masja\\anaconda3\\lib\\site-packages (from sphinx) (1.0.3)\n",
      "Requirement already satisfied, skipping upgrade: babel>=1.3 in c:\\users\\masja\\anaconda3\\lib\\site-packages (from sphinx) (2.8.0)\n",
      "Requirement already satisfied, skipping upgrade: colorama>=0.3.5; sys_platform == \"win32\" in c:\\users\\masja\\anaconda3\\lib\\site-packages (from sphinx) (0.4.3)\n",
      "Requirement already satisfied, skipping upgrade: Pygments>=2.0 in c:\\users\\masja\\anaconda3\\lib\\site-packages (from sphinx) (2.6.1)\n",
      "Requirement already satisfied, skipping upgrade: MarkupSafe>=0.23 in c:\\users\\masja\\anaconda3\\lib\\site-packages (from Jinja2>=2.3->sphinx) (1.1.1)\n",
      "Note: you may need to restart the kernel to use updated packages.\n"
     ]
    },
    {
     "name": "stderr",
     "output_type": "stream",
     "text": [
      "ERROR: spyder 4.1.1 requires pyqt5<5.13; python_version >= \"3\", which is not installed.\n",
      "ERROR: spyder 4.1.1 requires pyqtwebengine<5.13; python_version >= \"3\", which is not installed.\n"
     ]
    },
    {
     "name": "stdout",
     "output_type": "stream",
     "text": [
      "Requirement already satisfied, skipping upgrade: pyparsing>=2.0.2 in c:\\users\\masja\\anaconda3\\lib\\site-packages (from packaging->sphinx) (2.4.6)\n",
      "Requirement already satisfied, skipping upgrade: six in c:\\users\\masja\\anaconda3\\lib\\site-packages (from packaging->sphinx) (1.14.0)\n",
      "Requirement already satisfied, skipping upgrade: chardet<4,>=3.0.2 in c:\\users\\masja\\anaconda3\\lib\\site-packages (from requests>=2.5.0->sphinx) (3.0.4)\n",
      "Requirement already satisfied, skipping upgrade: certifi>=2017.4.17 in c:\\users\\masja\\anaconda3\\lib\\site-packages (from requests>=2.5.0->sphinx) (2020.4.5.1)\n",
      "Requirement already satisfied, skipping upgrade: urllib3!=1.25.0,!=1.25.1,<1.26,>=1.21.1 in c:\\users\\masja\\anaconda3\\lib\\site-packages (from requests>=2.5.0->sphinx) (1.25.8)\n",
      "Requirement already satisfied, skipping upgrade: idna<3,>=2.5 in c:\\users\\masja\\anaconda3\\lib\\site-packages (from requests>=2.5.0->sphinx) (2.9)\n",
      "Requirement already satisfied, skipping upgrade: pytz>=2015.7 in c:\\users\\masja\\anaconda3\\lib\\site-packages (from babel>=1.3->sphinx) (2019.3)\n",
      "Installing collected packages: sphinx\n",
      "  Attempting uninstall: sphinx\n",
      "    Found existing installation: Sphinx 2.4.4\n",
      "    Uninstalling Sphinx-2.4.4:\n",
      "      Successfully uninstalled Sphinx-2.4.4\n",
      "Successfully installed sphinx-3.0.3\n"
     ]
    }
   ],
   "source": [
    "pip install -U sphinx"
   ]
  },
  {
   "cell_type": "code",
   "execution_count": 25,
   "metadata": {},
   "outputs": [],
   "source": [
    "import sphinx"
   ]
  },
  {
   "cell_type": "code",
   "execution_count": 26,
   "metadata": {
    "scrolled": true
   },
   "outputs": [
    {
     "ename": "NameError",
     "evalue": "name 'quickstart' is not defined",
     "output_type": "error",
     "traceback": [
      "\u001b[1;31m---------------------------------------------------------------------------\u001b[0m",
      "\u001b[1;31mNameError\u001b[0m                                 Traceback (most recent call last)",
      "\u001b[1;32m<ipython-input-26-877a4580f585>\u001b[0m in \u001b[0;36m<module>\u001b[1;34m\u001b[0m\n\u001b[1;32m----> 1\u001b[1;33m \u001b[0msphinx\u001b[0m\u001b[1;33m-\u001b[0m\u001b[0mquickstart\u001b[0m\u001b[1;33m\u001b[0m\u001b[1;33m\u001b[0m\u001b[0m\n\u001b[0m",
      "\u001b[1;31mNameError\u001b[0m: name 'quickstart' is not defined"
     ]
    }
   ],
   "source": [
    "sphinx-quickstart"
   ]
  },
  {
   "cell_type": "code",
   "execution_count": 27,
   "metadata": {
    "scrolled": true
   },
   "outputs": [
    {
     "ename": "NameError",
     "evalue": "name 'quickstart' is not defined",
     "output_type": "error",
     "traceback": [
      "\u001b[1;31m---------------------------------------------------------------------------\u001b[0m",
      "\u001b[1;31mNameError\u001b[0m                                 Traceback (most recent call last)",
      "\u001b[1;32m<ipython-input-27-877a4580f585>\u001b[0m in \u001b[0;36m<module>\u001b[1;34m\u001b[0m\n\u001b[1;32m----> 1\u001b[1;33m \u001b[0msphinx\u001b[0m\u001b[1;33m-\u001b[0m\u001b[0mquickstart\u001b[0m\u001b[1;33m\u001b[0m\u001b[1;33m\u001b[0m\u001b[0m\n\u001b[0m",
      "\u001b[1;31mNameError\u001b[0m: name 'quickstart' is not defined"
     ]
    }
   ],
   "source": [
    "sphinx-quickstart"
   ]
  },
  {
   "cell_type": "code",
   "execution_count": 11,
   "metadata": {},
   "outputs": [],
   "source": [
    "import sys"
   ]
  },
  {
   "cell_type": "code",
   "execution_count": 12,
   "metadata": {
    "scrolled": true
   },
   "outputs": [
    {
     "data": {
      "text/plain": [
       "'C:\\\\Users\\\\masja\\\\Anaconda3\\\\python.exe'"
      ]
     },
     "execution_count": 12,
     "metadata": {},
     "output_type": "execute_result"
    }
   ],
   "source": [
    "sys.executable"
   ]
  },
  {
   "cell_type": "code",
   "execution_count": 13,
   "metadata": {},
   "outputs": [
    {
     "name": "stdout",
     "output_type": "stream",
     "text": [
      "# packages in environment at C:\\Users\\masja\\Anaconda3:\n",
      "#\n",
      "# Name                    Version                   Build  Channel\n",
      "anaconda                  custom                   py37_1  \n",
      "\n",
      "Note: you may need to restart the kernel to use updated packages.\n"
     ]
    }
   ],
   "source": [
    "conda list anaconda$"
   ]
  },
  {
   "cell_type": "code",
   "execution_count": 14,
   "metadata": {},
   "outputs": [
    {
     "ename": "SyntaxError",
     "evalue": "invalid syntax (<ipython-input-14-2a4763c2d789>, line 1)",
     "output_type": "error",
     "traceback": [
      "\u001b[1;36m  File \u001b[1;32m\"<ipython-input-14-2a4763c2d789>\"\u001b[1;36m, line \u001b[1;32m1\u001b[0m\n\u001b[1;33m    python -m mkdocs --version\u001b[0m\n\u001b[1;37m                   ^\u001b[0m\n\u001b[1;31mSyntaxError\u001b[0m\u001b[1;31m:\u001b[0m invalid syntax\n"
     ]
    }
   ],
   "source": [
    "python -m mkdocs --version"
   ]
  },
  {
   "cell_type": "code",
   "execution_count": 8,
   "metadata": {},
   "outputs": [
    {
     "name": "stdout",
     "output_type": "stream",
     "text": [
      "Requirement already up-to-date: pip in c:\\users\\masja\\anaconda3\\lib\\site-packages (20.1)\n",
      "Note: you may need to restart the kernel to use updated packages.\n"
     ]
    }
   ],
   "source": [
    "pip install --upgrade pip"
   ]
  },
  {
   "cell_type": "code",
   "execution_count": 9,
   "metadata": {
    "scrolled": true
   },
   "outputs": [
    {
     "name": "stdout",
     "output_type": "stream",
     "text": [
      "Requirement already satisfied: mkdocs in c:\\users\\masja\\anaconda3\\lib\\site-packages (1.1)\n",
      "Requirement already satisfied: Jinja2>=2.10.1 in c:\\users\\masja\\anaconda3\\lib\\site-packages (from mkdocs) (2.11.1)\n",
      "Requirement already satisfied: PyYAML>=3.10 in c:\\users\\masja\\anaconda3\\lib\\site-packages (from mkdocs) (5.3.1)\n",
      "Requirement already satisfied: click>=3.3 in c:\\users\\masja\\anaconda3\\lib\\site-packages (from mkdocs) (7.1.1)\n",
      "Requirement already satisfied: lunr[languages]==0.5.6 in c:\\users\\masja\\anaconda3\\lib\\site-packages (from mkdocs) (0.5.6)\n",
      "Requirement already satisfied: Markdown>=3.2.1 in c:\\users\\masja\\anaconda3\\lib\\site-packages (from mkdocs) (3.2.1)\n",
      "Requirement already satisfied: tornado>=5.0 in c:\\users\\masja\\anaconda3\\lib\\site-packages (from mkdocs) (6.0.4)\n",
      "Requirement already satisfied: livereload>=2.5.1 in c:\\users\\masja\\anaconda3\\lib\\site-packages (from mkdocs) (2.6.1)\n",
      "Requirement already satisfied: MarkupSafe>=0.23 in c:\\users\\masja\\anaconda3\\lib\\site-packages (from Jinja2>=2.10.1->mkdocs) (1.1.1)\n",
      "Requirement already satisfied: six>=1.11.0 in c:\\users\\masja\\anaconda3\\lib\\site-packages (from lunr[languages]==0.5.6->mkdocs) (1.14.0)\n",
      "Requirement already satisfied: future>=0.16.0 in c:\\users\\masja\\anaconda3\\lib\\site-packages (from lunr[languages]==0.5.6->mkdocs) (0.18.2)\n",
      "Requirement already satisfied: nltk>=3.2.5; extra == \"languages\" in c:\\users\\masja\\anaconda3\\lib\\site-packages (from lunr[languages]==0.5.6->mkdocs) (3.4.5)\n",
      "Requirement already satisfied: setuptools>=36 in c:\\users\\masja\\anaconda3\\lib\\site-packages (from Markdown>=3.2.1->mkdocs) (46.1.3.post20200330)\n",
      "Note: you may need to restart the kernel to use updated packages.\n"
     ]
    }
   ],
   "source": [
    "pip install mkdocs"
   ]
  },
  {
   "cell_type": "code",
   "execution_count": 10,
   "metadata": {},
   "outputs": [],
   "source": [
    "import mkdocs"
   ]
  },
  {
   "cell_type": "code",
   "execution_count": 11,
   "metadata": {},
   "outputs": [
    {
     "name": "stdout",
     "output_type": "stream",
     "text": [
      "Requirement already satisfied: click-man in c:\\users\\masja\\anaconda3\\lib\\site-packages (0.4.1)\n",
      "Requirement already satisfied: click in c:\\users\\masja\\anaconda3\\lib\\site-packages (from click-man) (7.1.1)\n",
      "Note: you may need to restart the kernel to use updated packages.\n"
     ]
    }
   ],
   "source": [
    "pip install click-man"
   ]
  },
  {
   "cell_type": "code",
   "execution_count": 18,
   "metadata": {
    "scrolled": true
   },
   "outputs": [
    {
     "ename": "SyntaxError",
     "evalue": "invalid syntax (<ipython-input-18-be7fc65596f5>, line 1)",
     "output_type": "error",
     "traceback": [
      "\u001b[1;36m  File \u001b[1;32m\"<ipython-input-18-be7fc65596f5>\"\u001b[1;36m, line \u001b[1;32m1\u001b[0m\n\u001b[1;33m    mkdocs new my-project\u001b[0m\n\u001b[1;37m             ^\u001b[0m\n\u001b[1;31mSyntaxError\u001b[0m\u001b[1;31m:\u001b[0m invalid syntax\n"
     ]
    }
   ],
   "source": [
    "mkdocs new my-project"
   ]
  },
  {
   "cell_type": "code",
   "execution_count": null,
   "metadata": {},
   "outputs": [],
   "source": []
  },
  {
   "cell_type": "code",
   "execution_count": null,
   "metadata": {},
   "outputs": [],
   "source": []
  }
 ],
 "metadata": {
  "kernelspec": {
   "display_name": "Python 3",
   "language": "python",
   "name": "python3"
  },
  "language_info": {
   "codemirror_mode": {
    "name": "ipython",
    "version": 3
   },
   "file_extension": ".py",
   "mimetype": "text/x-python",
   "name": "python",
   "nbconvert_exporter": "python",
   "pygments_lexer": "ipython3",
   "version": "3.7.3"
  }
 },
 "nbformat": 4,
 "nbformat_minor": 4
}
